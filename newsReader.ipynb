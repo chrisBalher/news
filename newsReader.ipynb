{
 "metadata": {
  "language_info": {
   "codemirror_mode": {
    "name": "ipython",
    "version": 3
   },
   "file_extension": ".py",
   "mimetype": "text/x-python",
   "name": "python",
   "nbconvert_exporter": "python",
   "pygments_lexer": "ipython3",
   "version": "3.8.5-final"
  },
  "orig_nbformat": 2,
  "kernelspec": {
   "name": "python3",
   "display_name": "Python 3.8.5 64-bit (conda)",
   "metadata": {
    "interpreter": {
     "hash": "4ba962433ce634cde499a2def155867a3065a4841db75053b162653b9c20e813"
    }
   }
  }
 },
 "nbformat": 4,
 "nbformat_minor": 2,
 "cells": [
  {
   "source": [
    "# LA VANGUARDIA -> La Contra"
   ],
   "cell_type": "markdown",
   "metadata": {}
  },
  {
   "cell_type": "code",
   "execution_count": 4,
   "metadata": {},
   "outputs": [
    {
     "output_type": "stream",
     "name": "stdout",
     "text": [
      "“Hemos nacido para cooperar o para ser desgraciados”\n\n\n\n\nLa vida es como te la tomas\n\n\n“Nada es bueno o malo, es nuestro pensamiento el que lo hace así”. Sellars cita a Shakespeare para demostrar que hace 2.000 años que los estoicos nos enseñan a ser dueños de nuestra mente. La vida no es como es, sino como te la tomas y si aprendes a ser el dueño de tus pensamientos, también serás señor de tu destino. Tu decidirás entonces si piensas la vida como un valle de lágrimas o un misterio gozoso. Y “si llega el triunfo o te sorprende la derrota y a los dos impostores, con Kipling, los tratas de igual forma” también aprenderás de Séneca, Marco Aurelio o Epicteto a gestionar tus emociones tras asumir que no puedes controlar los hechos que las causan. Desde esa humildad lograremos dominar nuestra mente y, en la misma medida, nuestra existencia.\nPuede resumir el estoicismo en una frase?\n“El mundo es como lo piensas ” .\nBreve y certera.\nSerlo es la ambición estoica, resumir ideas muy grandes en frases muy breves.\n¿El mundo es como te lo tomas?\nNuestra experiencia del mundo está determinada, sí, por el modo en que lo pensamos.\n¿La realidad no es al cabo tal como la explica la ciencia y da igual cómo la pensemos?\nAsí es, pero ese ser objetivo del mundo no determina nuestro modo de interpretarlo. Nuestra experiencia del mundo, el cómo lo sentimos depende de nuestros valores y de los juicios que hagamos sobre lo que nos pasa, bueno o malo, importante o irrelevante.\n¿Y eso sí que podemos decidirlo?\nDel todo.Decidimos cómo pensamos el mundo y eso determina si nos sentimos felices o desgraciados, realizados o frustrados. Porque todas nuestras emociones, miedo, alegría, tristeza, todas son resultado de los juicios de valor que hacemos al pensar lo que las causa.\n¿Se puede aprender a pensar el mundo?\nEs la clave para evitar ser juguetes de nuestras sensaciones hasta caer en la desesperación. Y aquí hay que citar otro gran principio estoico: “Hemos nacido para cooperar o ser desgraciados”. Y por eso ningún pensamiento tenía sentido para los estoicos si no era dialogado, ergo, compartido. La filosofía y, en general, el conocimiento solo se realiza al enseñarse.\n¿Cómo?\nDe ese cómo procede la palabra estoico, de la Stoa, la puerta de Atenas donde se reunían a dialogar, esto es, filosofar, los atenienses entonces. El estoicismo no es si no es compartido. Por eso organizo la semana estoica de Londres.\n¿Estoico no es, en román paladino, quien logra que la desgracia no le afecte?\nEstoico es quien sabe asumir cuanto le pasa sin ser un mero juguete de sus emociones, porque domina su pensamiento, sus juicios.\n¿Se convierte así en dueño de su destino?\nPasa a ser dueño de sus emociones ante lo que le sucede, lo cual quita poder sobre su persona al destino y se lo da a él.\n¿No es esa la antesala del heroísmo?\nLos estoicos solían conformarse con que fuera la antesala del sentido común. Marco Aurelio, emperador estoico, escribe sus Meditaciones con delicadeza, incluso con ternura en busca de la humildad necesaria para el recto gobierno.\nPues no paró de guerrear.\nY de vencer, pero él, versado en los ciclos del cosmos griego, no deja de recordarse a sí mismo que Roma no es tan importante.\nEs que si Roma no es tan importante, él, el emperador, podía dormir más tranquilo.\nY dominar sus emociones: la humildad, de nuevo, es la antesala de la sabiduría y más para los estoicos, porque era humildad compartida.\n¿Y así tampoco tu final es tan relevante y también tu duermes más tranquilo?\nLo relevante es cuanto hayas compartido de tu pequeño camino en la tierra y cómo has ayudado a otros a que el suyo sea menos desgraciado.\n¿Con ataraxia?\nLa filosofía, la capacidad de pensar el mundo, marca la diferencia entre la desesperación porque no puedes decidir lo que te pasa a la ataraxia, que es la sabia asunción de lo inevitable tras la prudente acción en lo posible.\n¿Y que el destino sea lo que Dios quiera?\nVeo que lo ha captado, sí.\n¿La concisión de Séneca o Marco Aurelio explica que sean tan citados hoy?\nLos estoicos romanos sí la tenían y son más citados, pero los griegos escribieron mucho y de todo. Crisipo en sus 705 libros desarrolló toda una cosmología y trató desde la gramática a la religión y una lógica comparable a la de Aristóteles.\n¿Cuál era la gran ambición estoica?\nEnseñar a pensar.\n¿Usted tiene seguidores con una escuela de pensamiento de hace dos mil años?\nNo quiero seguidores. Los líderes no crean seguidores, crean otros líderes. Eso sí que es ambición estoica, crear líderes de sí mismos y compruebo tras nuestras charlas, que quienes vienen y aprenden con nosotros a pensar lo que les sucede vuelven a sus vidas, como nosotros, menos frustrados.\n¿Es hoy más o menos difícil ser estoico que cuando se reunían en la Stoa?\nHoy es mucho más difícil detenerte a reflexionar, porque nuestra atención es un bien limitado y cada vez más demandado por las pantallas y por refinados estímulos gratificantes en ellas.\n¿Cómo lo sabe?\nPorque en cada semana estoica descubrimos que vivimos meses, a veces años sin darnos unos días, ni siquiera uno, ni tan solo unos momentos al día para reflexionar sobre lo que nos pasa y cómo lo pensamos. Y aprender de ello.\n¿Hemos evolucionado para reflexionar?\nNo, porque no es fácil. Séneca sólo pudo reflexionar, esto es, compartir sus reflexiones, tras ser un político ocupadísimo y perdedor en Roma, que le envió al exilio y convirtió así una desgracia en una oportunidad de ser mejor.\n¿Usted se detiene a reflexionar?\nIntento dedicar treinta minutos al final del día para repensar lo que he pensado y por tanto lo vivido. Pero cualquiera que dedique apenas diez se maravillará de lo que cunden.\n"
     ]
    }
   ],
   "source": [
    "import urllib.request, urllib.parse, urllib.error\n",
    "from bs4 import BeautifulSoup\n",
    "import ssl\n",
    "import re\n",
    "\n",
    "# Ignore SSL certificate errors\n",
    "ctx = ssl.create_default_context()\n",
    "ctx.check_hostname = False\n",
    "ctx.verify_mode = ssl.CERT_NONE\n",
    "\n",
    "url = input(\"Ingrese la URL del titular\")\n",
    "\n",
    "html = urllib.request.urlopen(url, context=ctx).read()\n",
    "soup = BeautifulSoup(html, 'html.parser')\n",
    "soup.body.h1.get_text()\n",
    "print(soup.body.h1.get_text())\n",
    "print(\"\\n\")\n",
    "try:\n",
    "    print(soup.body.h2.get_text())\n",
    "    print(\"\\n\")\n",
    "except:\n",
    "    print(\"\\n\")\n",
    "try:\n",
    "    print(soup.body.h3.get_text())\n",
    "    print(\"\\n\")\n",
    "except:\n",
    "    print(\"\\n\")\n",
    "print(soup.body.find_all(\"p\", class_=\"module-text\")[0].get_text() )\n",
    "for el in soup.body.find_all(\"p\", class_=\"paragraph\"):\n",
    "    print(el.get_text())\n"
   ]
  },
  {
   "source": [
    "# GESTION -> Plus G"
   ],
   "cell_type": "markdown",
   "metadata": {}
  },
  {
   "cell_type": "code",
   "execution_count": null,
   "metadata": {},
   "outputs": [],
   "source": [
    "import urllib.request, urllib.parse, urllib.error\n",
    "from bs4 import BeautifulSoup\n",
    "import ssl\n",
    "import re\n",
    "\n",
    "# Ignore SSL certificate errors\n",
    "ctx = ssl.create_default_context()\n",
    "ctx.check_hostname = False\n",
    "ctx.verify_mode = ssl.CERT_NONE\n",
    "\n",
    "url = input(\"Ingrese la URL titular:\")\n",
    "#url = 'https://gestion.pe/tu-dinero/bolsa-ya-gana-a-doble-digito-en-el-ano-por-boom-del-cobre-noticia/'\n",
    "html = urllib.request.urlopen(url, context=ctx).read()\n",
    "soup = BeautifulSoup(html, 'html.parser')\n",
    "try:\n",
    "    print(soup.head.get_text())\n",
    "    print(\"\\n\")\n",
    "except:\n",
    "    print(\"\\n\")\n",
    "try:\n",
    "    print(soup.h2.get_text())\n",
    "    print(\"\\n\")\n",
    "except:\n",
    "    print(\"\\n\")\n",
    "for text in soup.body.find_all(\"p\", class_=\"story-content__font--secondary\"):\n",
    "    print(text.get_text())"
   ]
  },
  {
   "source": [
    "# El comercio"
   ],
   "cell_type": "markdown",
   "metadata": {}
  },
  {
   "cell_type": "code",
   "execution_count": null,
   "metadata": {},
   "outputs": [],
   "source": [
    "import urllib.request, urllib.parse, urllib.error\n",
    "from bs4 import BeautifulSoup\n",
    "import ssl\n",
    "import re\n",
    "\n",
    "# Ignore SSL certificate errors\n",
    "ctx = ssl.create_default_context()\n",
    "ctx.check_hostname = False\n",
    "ctx.verify_mode = ssl.CERT_NONE\n",
    "\n",
    "url = input(\"Ingrese la URL del titular:\")\n",
    "\n",
    "html = urllib.request.urlopen(url, context=ctx).read()\n",
    "soup = BeautifulSoup(html, 'html.parser')\n",
    "print(soup.head.get_text())\n",
    "print(\"\\n\")\n",
    "print(soup.body.find_all(\"h2\", class_=\"sht__summary\")[0].get_text())\n",
    "print(\"\\n\")\n",
    "for text in soup.body.find_all(\"p\", class_=\"story-contents__font-paragraph\"):\n",
    "    print(text.get_text())"
   ]
  }
 ]
}
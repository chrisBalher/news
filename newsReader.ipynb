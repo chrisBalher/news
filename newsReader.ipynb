{
 "metadata": {
  "language_info": {
   "codemirror_mode": {
    "name": "ipython",
    "version": 3
   },
   "file_extension": ".py",
   "mimetype": "text/x-python",
   "name": "python",
   "nbconvert_exporter": "python",
   "pygments_lexer": "ipython3",
   "version": "3.8.5-final"
  },
  "orig_nbformat": 2,
  "kernelspec": {
   "name": "python3",
   "display_name": "Python 3.8.5 64-bit (conda)",
   "metadata": {
    "interpreter": {
     "hash": "4ba962433ce634cde499a2def155867a3065a4841db75053b162653b9c20e813"
    }
   }
  }
 },
 "nbformat": 4,
 "nbformat_minor": 2,
 "cells": [
  {
   "source": [
    "# GESTION"
   ],
   "cell_type": "markdown",
   "metadata": {}
  },
  {
   "cell_type": "code",
   "execution_count": null,
   "metadata": {},
   "outputs": [],
   "source": [
    "import urllib.request, urllib.error, urllib.parse\n",
    "import re\n",
    "fhand = urllib.request.urlopen('https://gestion.pe/economia/empresas/grupo-aih-se-asocia-con-gramercy-funds-management-para-nuevas-inversiones-noticia/')\n",
    "for line in fhand:\n",
    "    line = line.decode()\n",
    "    if re.search('articleBody',line):\n",
    "        print(re.findall('\"articleBody\":\"(.*)\"',line))"
   ]
  },
  {
   "source": [
    "# LA VANGUARDIA -> La Contra"
   ],
   "cell_type": "markdown",
   "metadata": {}
  },
  {
   "cell_type": "code",
   "execution_count": null,
   "metadata": {},
   "outputs": [],
   "source": [
    "import urllib.request, urllib.error, urllib.parse\n",
    "import re\n",
    "fhand = urllib.request.urlopen('https://www.lavanguardia.com/lacontra/20210217/6251351/mas-facil-hombre-te-quiere-lado.html')\n",
    "for line in fhand:\n",
    "    line = line.decode()\n",
    "    if re.search('articleBody',line):\n",
    "        print(re.findall('\"articleBody\":\"(.*)\"',line))"
   ]
  },
  {
   "cell_type": "code",
   "execution_count": null,
   "metadata": {},
   "outputs": [],
   "source": [
    "import urllib.request, urllib.parse, urllib.error\n",
    "from bs4 import BeautifulSoup\n",
    "import ssl\n",
    "import re\n",
    "\n",
    "# Ignore SSL certificate errors\n",
    "ctx = ssl.create_default_context()\n",
    "ctx.check_hostname = False\n",
    "ctx.verify_mode = ssl.CERT_NONE\n",
    "\n",
    "\n",
    "url = 'https://www.lavanguardia.com/lacontra/20210222/6258129/cante-ducha-fiar.html'\n",
    "url = input(\"Ingrese la URL del titular\")\n",
    "\n",
    "html = urllib.request.urlopen(url, context=ctx).read()\n",
    "soup = BeautifulSoup(html, 'html.parser')\n",
    "\n",
    "\"\"\" def hasAttr(tag):\n",
    "    return tag.has_attr('data-gtm-element-container') \"\"\"\n",
    "\n",
    "print(soup.body.h1.get_text())\n",
    "print(soup.body.h2.get_text())\n",
    "print(soup.body.h3.get_text())\n",
    "print(soup.body.find_all(\"p\", class_=\"module-text\")[0].get_text() )\n",
    "for el in soup.body.find_all(\"p\", class_=\"paragraph\"):\n",
    "    print(el.get_text())\n"
   ]
  },
  {
   "cell_type": "code",
   "execution_count": null,
   "metadata": {},
   "outputs": [],
   "source": []
  }
 ]
}
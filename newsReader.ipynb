{
 "metadata": {
  "language_info": {
   "codemirror_mode": {
    "name": "ipython",
    "version": 3
   },
   "file_extension": ".py",
   "mimetype": "text/x-python",
   "name": "python",
   "nbconvert_exporter": "python",
   "pygments_lexer": "ipython3",
   "version": "3.8.5-final"
  },
  "orig_nbformat": 2,
  "kernelspec": {
   "name": "python3",
   "display_name": "Python 3.8.5 64-bit (conda)",
   "metadata": {
    "interpreter": {
     "hash": "4ba962433ce634cde499a2def155867a3065a4841db75053b162653b9c20e813"
    }
   }
  }
 },
 "nbformat": 4,
 "nbformat_minor": 2,
 "cells": [
  {
   "source": [
    "# GESTION -> Plus G"
   ],
   "cell_type": "markdown",
   "metadata": {}
  },
  {
   "cell_type": "code",
   "execution_count": 27,
   "metadata": {},
   "outputs": [
    {
     "output_type": "stream",
     "name": "stdout",
     "text": [
      "Bolsa ya gana a doble dígito en el año por boom del cobre | TU-DINERO | GESTIÓN\n\n\n\n\n Índice General de la BVL sube 11.3% en el año apuntalado por alza del cobre, que ya supera los US$ 4 la libra. Acciones mineras escalan 21%, secundadas por las industriales (15%).\n\n\nLa Bolsa de Valores de Lima (BVL) continúa avanzando de las manos de los metales y de mejores perspectivas para la economía global.\nAyer, el Índice General de la BVL trepó 1.69%, con lo que acumula en el año un alza de 11.3%. Esta ganancia a doble dígito de la bolsa, muy superior al 1.5% que rindió en el 2020, es impulsada esencialmente por la escalada del precio del cobre, que tiende a subir desde marzo del año pasado, tras tocar un piso en ese mismo mes.\nEl alza del metal se acentuó en las últimas semanas por la rápida recuperación de China, y por las perspectivas de mayor demanda del cobre a nivel mundial, pues los gobiernos, como el de EE.UU. con su anunciado plan de estímulo de US$ 1.9 billones, deberán desarrollar proyectos de infraestructura a gran escala –que requieren de cobre- para impulsar sus economías debilitadas por la pandemia.\nDe esta forma, el cobre superó ayer los US$ 4 la libra en el mercado de Londres, nivel psicológico clave y el más alto en casi una década (desde setiembre del 2011).\nLa subida en los precios de metales como el cobre, zinc y estaño favorece a las acciones mineras, que representan el 40% del índice referente de la plaza limeña y estimula sus ganancias, señaló a Gestión Marco Contreras, analista senior de Kallpa SAB.\nAsimismo, las expectativas de distribución masiva de las vacunas eleva la probabilidad de recuperación de la economía global, un panorama positivo para mercados emergentes, incluida la bolsa de Lima (ver gráfico), indicó Diego Cavero, jefe de análisis de emisores en Intéligo SAB.\n“En los últimos meses el crecimiento de la BVL calza con el avance del cobre; siguen el mismo patrón”, acotó.\nHay un desbalance entre  oferta (deficitaria) y demanda del metal, que mantendría un cobre robusto en el  mediano plazo, prevé Cavero. La senda alcista del metal rojizo continuaría en los próximos 18 meses,  añadió. El déficit en la oferta de cobre no asegura que el rally del cobre siga, pero sí que los precios continuarán elevados por más meses, según Contreras.\nEn la jornada, las acciones  mineras de la BVL treparon 5.1%, y en el año, 21.1%.\n Otros sectores también contribuyen a la performance de la bolsa este año, como el industrial (15.3%), construcción (13.1%), consumo (12.8%) y financiero (3.74%), entre otros. \nLa BVL seguirá acoplándose al desempeño internacional, mientras no haya claridad en las preferencias electorales locales, pues hasta el momento los candidatos que lideran los sondeos están en empate técnico, sostuvo Cavero.\nLa plaza limeña podría retroceder si un candidato anti mercado se desmarca, acotó.\nEn tanto, Contreras sostuvo que la volatilidad que habría en días previos a las elecciones atenuaría el efecto positivo del cobre sobre la plaza local, al afectar las acciones vinculadas a demanda interna.\n"
     ]
    }
   ],
   "source": [
    "import urllib.request, urllib.parse, urllib.error\n",
    "from bs4 import BeautifulSoup\n",
    "import ssl\n",
    "import re\n",
    "\n",
    "# Ignore SSL certificate errors\n",
    "ctx = ssl.create_default_context()\n",
    "ctx.check_hostname = False\n",
    "ctx.verify_mode = ssl.CERT_NONE\n",
    "\n",
    "url = input(\"Ingrese direccion del titular:\")\n",
    "#url = 'https://gestion.pe/tu-dinero/bolsa-ya-gana-a-doble-digito-en-el-ano-por-boom-del-cobre-noticia/'\n",
    "html = urllib.request.urlopen(url, context=ctx).read()\n",
    "soup = BeautifulSoup(html, 'html.parser')\n",
    "#print(soup.body.contents)\n",
    "print(soup.head.get_text())\n",
    "print(\"\\n\")\n",
    "print(soup.h2.get_text())\n",
    "print(\"\\n\")\n",
    "for text in soup.body.find_all(\"p\", class_=\"story-content__font--secondary\"):\n",
    "    print(text.get_text())"
   ]
  },
  {
   "source": [
    "# LA VANGUARDIA -> La Contra"
   ],
   "cell_type": "markdown",
   "metadata": {}
  },
  {
   "cell_type": "code",
   "execution_count": null,
   "metadata": {},
   "outputs": [],
   "source": [
    "import urllib.request, urllib.parse, urllib.error\n",
    "from bs4 import BeautifulSoup\n",
    "import ssl\n",
    "import re\n",
    "\n",
    "# Ignore SSL certificate errors\n",
    "ctx = ssl.create_default_context()\n",
    "ctx.check_hostname = False\n",
    "ctx.verify_mode = ssl.CERT_NONE\n",
    "\n",
    "url = input(\"Ingrese la URL del titular\")\n",
    "\n",
    "html = urllib.request.urlopen(url, context=ctx).read()\n",
    "soup = BeautifulSoup(html, 'html.parser')\n",
    "\n",
    "print(soup.body.h1.get_text())\n",
    "print(\"\\n\")\n",
    "print(soup.body.h2.get_text())\n",
    "print(\"\\n\")\n",
    "print(soup.body.h3.get_text())\n",
    "print(\"\\n\")\n",
    "print(soup.body.find_all(\"p\", class_=\"module-text\")[0].get_text() )\n",
    "for el in soup.body.find_all(\"p\", class_=\"paragraph\"):\n",
    "    print(el.get_text())\n"
   ]
  }
 ]
}
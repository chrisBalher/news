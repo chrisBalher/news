{
 "metadata": {
  "language_info": {
   "codemirror_mode": {
    "name": "ipython",
    "version": 3
   },
   "file_extension": ".py",
   "mimetype": "text/x-python",
   "name": "python",
   "nbconvert_exporter": "python",
   "pygments_lexer": "ipython3",
   "version": "3.8.5-final"
  },
  "orig_nbformat": 2,
  "kernelspec": {
   "name": "python3",
   "display_name": "Python 3.8.5 64-bit (conda)",
   "metadata": {
    "interpreter": {
     "hash": "4ba962433ce634cde499a2def155867a3065a4841db75053b162653b9c20e813"
    }
   }
  }
 },
 "nbformat": 4,
 "nbformat_minor": 2,
 "cells": [
  {
   "source": [
    "# LA VANGUARDIA -> La Contra"
   ],
   "cell_type": "markdown",
   "metadata": {}
  },
  {
   "cell_type": "code",
   "execution_count": null,
   "metadata": {},
   "outputs": [],
   "source": [
    "import urllib.request, urllib.parse, urllib.error\n",
    "from bs4 import BeautifulSoup\n",
    "import ssl\n",
    "import re\n",
    "\n",
    "# Ignore SSL certificate errors\n",
    "ctx = ssl.create_default_context()\n",
    "ctx.check_hostname = False\n",
    "ctx.verify_mode = ssl.CERT_NONE\n",
    "\n",
    "url = input(\"Ingrese la URL del titular\")\n",
    "\n",
    "html = urllib.request.urlopen(url, context=ctx).read()\n",
    "soup = BeautifulSoup(html, 'html.parser')\n",
    "\n",
    "print(soup.body.h1.get_text())\n",
    "print(\"\\n\")\n",
    "print(soup.body.h2.get_text())\n",
    "print(\"\\n\")\n",
    "print(soup.body.h3.get_text())\n",
    "print(\"\\n\")\n",
    "print(soup.body.find_all(\"p\", class_=\"module-text\")[0].get_text() )\n",
    "for el in soup.body.find_all(\"p\", class_=\"paragraph\"):\n",
    "    print(el.get_text())\n"
   ]
  },
  {
   "source": [
    "# GESTION -> Plus G"
   ],
   "cell_type": "markdown",
   "metadata": {}
  },
  {
   "cell_type": "code",
   "execution_count": null,
   "metadata": {},
   "outputs": [],
   "source": [
    "import urllib.request, urllib.parse, urllib.error\n",
    "from bs4 import BeautifulSoup\n",
    "import ssl\n",
    "import re\n",
    "\n",
    "# Ignore SSL certificate errors\n",
    "ctx = ssl.create_default_context()\n",
    "ctx.check_hostname = False\n",
    "ctx.verify_mode = ssl.CERT_NONE\n",
    "\n",
    "url = input(\"Ingrese direccion del titular:\")\n",
    "#url = 'https://gestion.pe/tu-dinero/bolsa-ya-gana-a-doble-digito-en-el-ano-por-boom-del-cobre-noticia/'\n",
    "html = urllib.request.urlopen(url, context=ctx).read()\n",
    "soup = BeautifulSoup(html, 'html.parser')\n",
    "#print(soup.body.contents)\n",
    "print(soup.head.get_text())\n",
    "print(\"\\n\")\n",
    "print(soup.h2.get_text())\n",
    "print(\"\\n\")\n",
    "for text in soup.body.find_all(\"p\", class_=\"story-content__font--secondary\"):\n",
    "    print(text.get_text())"
   ]
  },
  {
   "source": [
    "# El comercio"
   ],
   "cell_type": "markdown",
   "metadata": {}
  },
  {
   "cell_type": "code",
   "execution_count": 36,
   "metadata": {},
   "outputs": [
    {
     "output_type": "stream",
     "name": "stdout",
     "text": [
      "‘Gasolinazo’: Todo lo que debe saber sobre el caso que involucra al general César Astudillo y otros mandos militares | Ejército peruano | combustible | LIMA | EL COMERCIO PERÚ\n\n\n\n\nEsta mañana, agentes de la Diviac y personal de la fiscalía allanaron las oficinas y viviendas de 12 miembros del Ejército peruano investigados por presuntamente integrar una organización criminal dedicada a la sustracción y venta ilegal de combustible asignado a la institución castrense.\n\n\nLa sustracción y comercialización de combustible vuelve, una vez más, a encender las alarmas en el Ejército peruano. El general EP, César Astudillo, jefe del Comando Conjunto de las Fuerzas Armadas del Perú, y otros 11 miembros de la institución castrense están siendo investigados por presuntamente ser parte del nuevo caso ‘Gasolinazo’.\nEsta mañana, el personal del Ministerio Público y la Policía Nacional allanaron viviendas y oficinas de los altos mandos del Ejército, entre ellos, del general César Astudillo. A continuación, detallamos las claves de la investigación fiscal por la que hoy se realizaron los allanamientos en Lima y Piura.\nDe acuerdo con el fiscal Omar Tello, jefe de la Fiscalía Anticorrupción, la investigación fiscal por este nuevo caso de ‘Gasolinazo’ iniciaron en el 2018 cuando se descubrió en flagrancia a una organización criminal conformada por oficiales del Ejército que retiraban petróleo del grifo del Comando de Educación y Doctrina del Ejército (COEDE).\nEn aquel momento, la organización criminal denominada ‘Los capos del diésel’ había acondicionado una van, de placa AUH-492, con un tanque para almacenar hasta 500 galones de combustible. Este era retirado de los grifos del COEDE y luego trasladado hacia grifos civiles para su venta ilegal. ‘Los capos del diésel’ operó de manera sistemática desde el 2013 al 2018, generando un prejuicio de aproximadamente S/3 millones.\nRazón de ello, en diciembre del 2019 se detuvo a 21 miembros del Ejército, entre ellos generales en retiro, coroneles, mayores y suboficiales, así como a un agente de la PNP. Para todos ellos se solicitó una detención preliminar de 10 días. Asimismo, se allanaron 25 escuelas de formación, especialización y capacitación del Ejército del Perú, además de algunas viviendas. El megaoperativo se realizó en las ciudades de Lima, Arequipa, Tarapoto y Cajamarca.\nEn tanto, la desarticulación de la banda ‘Los capos del diésel’ le permitió al Ministerio Público recabar información y continuar con las investigaciones hasta llegar a los altos mandos militares. Gracias a la colaboración eficaz de algunos de los anteriormente detenidos y a la documentación analizada ya se ha podido vincular a varios generales en actividad y en retiro en el nuevo ‘Gasolinazo’.\nEntre los implicados figura el general EP César Astudillo, jefe del Comando Conjunto de las Fuerzas Armadas (CCFFAA) del Perú; el general de Brigada EP Edward Gratelly Silva, jefe de Estado Mayor del CCFFAA; y el general de División EP (r) Jorge Orlando Céliz Kuong, excomandante general. Ellos conformaban la presunta organización criminal ‘Los Mercenarios’.\nEn una entrevista con El Comercio, el fiscal Omar Tello explicó que los generales tenían a cargo las instalaciones del Pentagonito y de la Escuela Militar de Chorrillos, en donde había una dotación de combustible (gasolina de 90, 95 y 97 octanos) asignado a la Comandancia General del Ejército para la cocción de alimentos y para la movilización de los vehículos.\nLa presunta banda criminal ‘Los Mercenarios’ se habría apropiado de los saldos de combustible destinado para la movilización de los vehículos. El combustible era retirado del grifo del Cuartel General del Ejército en San Borja (Pentagonito) en vehículos acondicionados con capacidad de 125 y 250 galones para luego ser vendidos al grifo privado ‘La Inmaculada’, ubicado en Chorrillos. De esta manera, el dinero proveniente del ilícito era entregado a los comandantes generales previo pago de porcentajes a los demás implicados.\nSegún información policial, la organización ‘Los Mercenarios’ estaría enquistada en el Ejército peruano desde el año 2013 y liderada por oficiales de alto rango, quienes -aprovechando su condición y cargo conjuntamente con diversos oficiales- estarían sustrayendo sistemáticamente combustible que pertenece a dicha institución. Con esta actividad ilícita se habría logrado amasar grandes sumas de dinero, siendo el prejuicio para el Estado de S/1′687.000, aproximadamente.\nLa Fiscalía Provincial Especializada en Delitos de Corrupción de Funcionarios de Lima Sur solicitó el allanamiento con descerraje en 8 oficinas del Ejército peruano y 12 viviendas para incautar bienes y documentación relacionados con la investigación. Además, solicitó la detención preliminar por 7 días del general César Astudillo y de los otros 11 implicados. Sin embargo, este último pedido fue desestimado por el Poder Judicial.\nLa resolución N°01 del 12 de febrero del 2021 fue firmada por el juez Jorge Cesar Mayta Palian del Segundo Juzgado de Investigación Preparatoria - sede Villa Marina II.\nLa fiscalía viene realizando las investigaciones por el delito de encubrimiento real, encubrimiento personal y peculado doloso por apropiación de combustible que era destinado a las actividades de la institución castrense.\nEl documento fiscal señala que “existen razones plausibles de que el investigado César Astudillo Salcedo habría incurrido en los presuntos delitos de encubrimiento real y personal, puesto a que en abril del 2018, cuando se desempeñaba como jefe de la Comandancia General del Ejército, habría tomado conocimiento a través de una nota de inteligencia que el jefe del Grifo del CODE, técnico EP Javier Julio Sulca Chate, estaría vendiendo combustible”.\nTambién, dicho documento revela que “existen razones plausibles de que Astudillo Salcedo habría incurrido en el presunto delito de peculado doloso por apropiación en calidad de autor cuando se desempeñaba como comandante general de la Comandancia General del Ejército, ubicado en el Pentagonito en San Borja, entre el 17 de diciembre de 2017 y el 29 de octubre de 2018. Se advertiría que al ocupar dicho cargo, el Ejército peruano le habría asignado gasolina de 95 y 97 octanos y petróleo para diferentes conceptos, tanto para cubrir las necesidades del Comando General del Ejército y las suyas en forma personal”.\nPor su parte, el general EP César Astudillo adelantó a este Diario que “nunca he sido investigado por ese caso. No es posible que jamás me hayan siquiera notificado y de pronto allanan mi domicilio violando lo más elemental de un ser humano: la presunción de inocencia”.\nAsimismo, tras las diligencias fiscales Astudillo aseguró que tomará acciones legales contra el fiscal a cargo de la diligencia, a la que calificó como un “show mediático”. “No solo estoy indignado, me apena cómo actúa el Ministerio Público. Estoy indignado, haré todo lo que pueda para que ese fiscal corrupto reciba todo el peso de la ley, no tengo una sola notificación ni un mensaje ni un correo”, expresó.\nEsta mañana, agentes de la División de Investigación de Delitos de Alta Complejidad (Diviac) de la PNP, con apoyo de la Dirección General de Inteligencia del Ministerio del Interior (Digimin) y personal de la Fiscalía Provincial Especializada en Delitos de Corrupción de Funcionarios de Lima Sur, llevaron a cabo el allanamiento en 12 viviendas y 8 oficinas administrativas.\nDurante las investigaciones preliminares del nuevo caso ‘Gasolinazo’, en el que se busca desarticular una presunta banda criminal denominada ‘Los Mercenarios’, se obtuvo evidencias e indicios de la participación de oficiales de alta jerarquía en situación de actividad (7) y en retiro (5) del Ejército peruano.\n1. General de División EP César Augusto Astudillo Salcedo (jefe actual del CCFFAA)\n2. General de Brigada EP Edward Gratelly Silva (jefe de Estado Mayor del CCFFAA)\n3. Teniente Coronel EP José Francisco Rojas Dávila (jefe del Batallón de Intendencia A/M N°111-Piura)\n4. Mayor EP David Arana Estribidis (Estado Mayor de la II División del Ejército cuartel “Fuerte Hoyos Rubio”- Rímac)\n5. Capitán EP Julio Cesar Grosso Anticona (logística de Estado Mayor cuartel “Fuerte Hoyos Rubio”- Rímac)\n6. Suboficial Técnico de Primera EP José Manuel Chávez Gutiérrez\n7. Suboficial Técnico de Segunda EP Orlando Saul Quinto Trillo\n1. General de División EP (r) Luis Humberto Ramos Hume (Ex Comandante General)\n2. General de División EP (r) Ricardo Homero Moncada Novoa (Ex Comandante General)\n3. General de División EP (r) Jorge Orlando Céliz Kuong (Ex Comandante General)\n4. Coronel EP (r) Jorge Augusto Ruiz Lazo (Ex Jefe del Comando Logístico del Ejercito)\n5. Suboficial Técnico de Tercera EP (r) Louis Augusto Ortiz Castillo\nEn el allanamiento de viviendas y oficinas administrativas participaron 100 agentes de la Diviac. Estas se dieron en Lima (3), Surco (4), San Borja (4), Rímac (2), Surquillo (1), Chorrillos (2), Los Olivos (1), Villa El Salvador (1) y Piura (2).\n"
     ]
    }
   ],
   "source": [
    "import urllib.request, urllib.parse, urllib.error\n",
    "from bs4 import BeautifulSoup\n",
    "import ssl\n",
    "import re\n",
    "\n",
    "# Ignore SSL certificate errors\n",
    "ctx = ssl.create_default_context()\n",
    "ctx.check_hostname = False\n",
    "ctx.verify_mode = ssl.CERT_NONE\n",
    "\n",
    "url = input(\"Ingrese direccion del titular:\")\n",
    "\n",
    "html = urllib.request.urlopen(url, context=ctx).read()\n",
    "soup = BeautifulSoup(html, 'html.parser')\n",
    "print(soup.head.get_text())\n",
    "print(\"\\n\")\n",
    "print(soup.body.find_all(\"h2\", class_=\"sht__summary\")[0].get_text())\n",
    "print(\"\\n\")\n",
    "for text in soup.body.find_all(\"p\", class_=\"story-contents__font-paragraph\"):\n",
    "    print(text.get_text())"
   ]
  }
 ]
}